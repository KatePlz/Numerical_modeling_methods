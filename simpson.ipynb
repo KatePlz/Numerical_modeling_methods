{
 "cells": [
  {
   "cell_type": "markdown",
   "metadata": {},
   "source": [
    "# Метод Симпсона"
   ]
  },
  {
   "cell_type": "markdown",
   "metadata": {},
   "source": [
    "\n",
    "**Метод Симпсона** — это численный метод, который приближает интеграл функции \n",
    "путём разбиения интервала на подотрезки и использования парабол \n",
    "для аппроксимации функции на каждом подотрезке."
   ]
  },
  {
   "cell_type": "code",
   "execution_count": 2,
   "metadata": {},
   "outputs": [
    {
     "name": "stdout",
     "output_type": "stream",
     "text": [
      "Examples:\n",
      "\n",
      "f = sin(x), [a, b] = [0, pi], eps = 1e-4\n",
      "∫f(x)dx ≈  2.0000004230931827\n",
      "\n",
      "f = sin(x), [a, b] = [0, pi], eps = 1e-7\n",
      "∫f(x)dx ≈  2.0000000016515695\n",
      "\n",
      "f = exp(x), [a, b] = [0, 1], eps = 1e-6\n",
      "∫f(x)dx ≈  1.7182818881038566\n",
      "\n",
      "f = 1/x, [a, b] = [2, 3], eps = 1e-3\n",
      "∫f(x)dx ≈  0.40546511853935713\n"
     ]
    }
   ],
   "source": [
    "import numpy as np\n",
    "\n",
    "def simpson(a, b, f, eps):  \n",
    "    # количество точек n должно быть нечётным \n",
    "    n = 11\n",
    "    prev_res = 0\n",
    "    sum_even = 0\n",
    "    h = (b - a) / (n - 1)\n",
    "    for i in range (2, n-1, 2):\n",
    "        sum_even += f(a + i*h) \n",
    "    while True:\n",
    "        sum_odd = 0\n",
    "        for j in range (1, n, 2):\n",
    "            sum_odd += f(a + j*h) \n",
    "        # применяем формулу Симпсона\n",
    "        res = (h/3.0) * (f(a) + 4 * sum_odd + 2 * sum_even + f(b))\n",
    "        # разность между различными разбиениями\n",
    "        if abs(prev_res - res) < eps:\n",
    "            break\n",
    "        prev_res = res\n",
    "        n = 2*n - 1\n",
    "        h *= 0.5\n",
    "        sum_even += sum_odd\n",
    "    return res\n",
    "\n",
    "print('Examples:')\n",
    "print('\\nf = sin(x), [a, b] = [0, pi], eps = 1e-4')\n",
    "print('∫f(x)dx ≈ ', simpson(0, np.pi, np.sin, 1e-4))\n",
    "print('\\nf = sin(x), [a, b] = [0, pi], eps = 1e-7')\n",
    "print('∫f(x)dx ≈ ', simpson(0, np.pi, np.sin, 1e-7))\n",
    "print('\\nf = exp(x), [a, b] = [0, 1], eps = 1e-6')\n",
    "print('∫f(x)dx ≈ ', simpson(0, 1, np.exp, 1e-6))\n",
    "print('\\nf = 1/x, [a, b] = [2, 3], eps = 1e-3')\n",
    "print('∫f(x)dx ≈ ', simpson(2, 3, lambda x: 1/x, 1e-3))\n"
   ]
  }
 ],
 "metadata": {
  "kernelspec": {
   "display_name": "myvenv",
   "language": "python",
   "name": "python3"
  },
  "language_info": {
   "codemirror_mode": {
    "name": "ipython",
    "version": 3
   },
   "file_extension": ".py",
   "mimetype": "text/x-python",
   "name": "python",
   "nbconvert_exporter": "python",
   "pygments_lexer": "ipython3",
   "version": "3.12.6"
  }
 },
 "nbformat": 4,
 "nbformat_minor": 2
}
